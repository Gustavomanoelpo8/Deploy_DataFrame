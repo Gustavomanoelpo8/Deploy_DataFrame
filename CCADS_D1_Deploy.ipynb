{
  "nbformat": 4,
  "nbformat_minor": 0,
  "metadata": {
    "colab": {
      "provenance": [],
      "include_colab_link": true
    },
    "kernelspec": {
      "name": "python3",
      "display_name": "Python 3"
    },
    "language_info": {
      "name": "python"
    }
  },
  "cells": [
    {
      "cell_type": "markdown",
      "metadata": {
        "id": "view-in-github",
        "colab_type": "text"
      },
      "source": [
        "<a href=\"https://colab.research.google.com/github/Gustavomanoelpo8/Deploy_DataFrame/blob/main/CCADS_D1_Deploy.ipynb\" target=\"_parent\"><img src=\"https://colab.research.google.com/assets/colab-badge.svg\" alt=\"Open In Colab\"/></a>"
      ]
    },
    {
      "cell_type": "markdown",
      "source": [
        "\n",
        "\n",
        "D1(CC/ADS) Deploy\n",
        "1. Ana Clara de Paula\n",
        "2. André Celerino\n",
        "3. Daniel Lopes\n",
        "4. Italo Rian\n",
        "5. Gustavo Manoel\n",
        "\n",
        "\n",
        "\n"
      ],
      "metadata": {
        "id": "1hSvsVj45Hep"
      }
    },
    {
      "cell_type": "code",
      "source": [
        "#Proposta 4: Dados de Músicas de uma Plataforma de Streaming\n",
        "#a) Mais ouvidas\n",
        "#b) Artista com mais músicas\n",
        "#c) Gênero mais popular\n",
        "#d) Música mais recente\n",
        "#e) Adicionar uma nova coluna com a duração em segundos"
      ],
      "metadata": {
        "id": "b9FWSgIOuknK"
      },
      "execution_count": null,
      "outputs": []
    },
    {
      "cell_type": "code",
      "execution_count": null,
      "metadata": {
        "id": "WWeTDk-a3W-A",
        "colab": {
          "base_uri": "https://localhost:8080/"
        },
        "outputId": "d6f51393-7818-4c35-8587-0564daeab837"
      },
      "outputs": [
        {
          "output_type": "stream",
          "name": "stdout",
          "text": [
            "       artistas          músicas duração    gênero    reproduções   ano  \\\n",
            "0    Mac Miller  Congratulations    4:17       Rap    291.727.891  2016   \n",
            "1   Linkin Park             Numb    3:07  Pop-Rock  1.676.956.981  2003   \n",
            "2          Anri       Stay By Me    3:37     J-Pop      4.585.311  1983   \n",
            "3           BTS         Dynamite    3:43     K-pop  1.850.206.651  2020   \n",
            "4  Taylor Swift       Florida!!!    3:35  Pop-Folk     78.730.744  2024   \n",
            "\n",
            "  quantiade_musicas  \n",
            "0               900  \n",
            "1             1.100  \n",
            "2               200  \n",
            "3             2.500  \n",
            "4             2.000  \n",
            "________________________________________________________________\n",
            "A) Mais ouvidas são:\n",
            "       artistas  reproduções\n",
            "3           BTS   1850206651\n",
            "1   Linkin Park   1676956981\n",
            "0    Mac Miller    291727891\n",
            "4  Taylor Swift     78730744\n",
            "2          Anri      4585311\n",
            "________________________________________________________________\n",
            "B) artistas com mais músicas são\n",
            "      artistas quantiade_musicas\n",
            "3          BTS             2.500\n",
            "1  Linkin Park             1.100\n",
            "0   Mac Miller               900\n",
            "________________________________________________________________\n",
            "C) Gênero mais popular:  K-pop\n",
            "________________________________________________________________\n",
            "D) Musica mais recente:\n",
            "artistas    Taylor Swift\n",
            "ano                 2024\n",
            "Name: 4, dtype: object\n",
            "________________________________________________________________\n",
            "E) Coluna em segundos adicionada:\n",
            "       artistas          músicas duração    gênero  reproduções   ano  \\\n",
            "0    Mac Miller  Congratulations    4:17       Rap    291727891  2016   \n",
            "1   Linkin Park             Numb    3:07  Pop-Rock   1676956981  2003   \n",
            "2          Anri       Stay By Me    3:37     J-Pop      4585311  1983   \n",
            "3           BTS         Dynamite    3:43     K-pop   1850206651  2020   \n",
            "4  Taylor Swift       Florida!!!    3:35  Pop-Folk     78730744  2024   \n",
            "\n",
            "   quantiade_musicas  duracao_segundos  \n",
            "0                900               257  \n",
            "1               1100               187  \n",
            "2                200               217  \n",
            "3               2500               223  \n",
            "4               2000               215  \n",
            "________________________________________________________________\n"
          ]
        }
      ],
      "source": [
        "import pandas as pd #lembrar de importar o pandas\n",
        "\n",
        "#Dataframe de playlist\n",
        "#Dados dos artistas\n",
        "artistas = ['Mac Miller', 'Linkin Park', 'Anri', 'BTS', 'Taylor Swift']\n",
        "musicas = ['Congratulations', 'Numb', 'Stay By Me', 'Dynamite', 'Florida!!!']\n",
        "duração = ['4:17', '3:07', '3:37','3:43', '3:35']\n",
        "generos = ['Rap', 'Pop-Rock', 'J-Pop', 'K-pop', 'Pop-Folk']\n",
        "reproduções = ['291.727.891', '1.676.956.981', '4.585.311', '1.850.206.651', '78.730.744']\n",
        "ano = ['2016', '2003', '1983', '2020', '2024']\n",
        "quantidade_musicas =['900', '1.100', '200', '2.500', '2.000']\n",
        "dados = list(zip(artistas, musicas))\n",
        "#carrega os dados em modelo de dataframe\n",
        "df = pd.DataFrame(data = dados)\n",
        "\n",
        "#Base de dados\n",
        "dados={\n",
        "    'artistas': artistas,\n",
        "    'músicas': musicas,\n",
        "    'duração': duração,\n",
        "    'gênero': generos,\n",
        "    'duração': duração,\n",
        "    'reproduções': reproduções,\n",
        "    'ano': ano,\n",
        "    'quantiade_musicas': quantidade_musicas\n",
        "}\n",
        "#comando para usar o dataframe com base em\n",
        "df = pd.DataFrame(dados)\n",
        "print(df)\n",
        "print('________________________________________________________________')\n",
        "#a) Mais ouvidas\n",
        "\n",
        "# Converter a coluna 'reproduções' para tipo numérico\n",
        "df['reproduções'] = df['reproduções'].str.replace('.', '').astype(int)\n",
        "\n",
        "# Organizar por ordem decrescente\n",
        "df_mais_ouvidas = df.sort_values(by='reproduções', ascending=False)\n",
        "\n",
        "print(\"A) Mais ouvidas são:\")\n",
        "print(df_mais_ouvidas[['artistas', 'reproduções']].head())\n",
        "print('________________________________________________________________')\n",
        "\n",
        "#b) Artista com mais músicas\n",
        "\n",
        "df['quantiade_musicas'] = df['quantiade_musicas'].str.replace('.', '').astype(int)\n",
        "\n",
        "df_mais_musicas = df.sort_values(by='quantiade_musicas', ascending=False)\n",
        "print(f'B) artistas com mais músicas são')\n",
        "print(df_mais_ouvidas[['artistas', 'quantiade_musicas']].head(3))\n",
        "print('________________________________________________________________')\n",
        "\n",
        "#c) Gênero mais popular\n",
        "max_reproducoes_index = df['reproduções'].idxmax()\n",
        "\n",
        "genero_mais_popular = df.loc[max_reproducoes_index, 'gênero']\n",
        "\n",
        "print(f'C) Gênero mais popular: ', genero_mais_popular)\n",
        "print('________________________________________________________________')\n",
        "\n",
        "#d) Música mais recente\n",
        "df['ano'] = df['ano'].astype(int)\n",
        "max_rep_musica = df['ano'].idxmax()\n",
        "df_sorted = df.sort_values(by='ano', ascending=False)\n",
        "max_rep_musica = df_sorted.iloc[0]\n",
        "print(f'D) Musica mais recente:')\n",
        "print(max_rep_musica[['artistas', 'ano']].head())\n",
        "print('________________________________________________________________')\n",
        "\n",
        "#e) Adicionar uma nova coluna com a duração em segundos\n",
        "\n",
        "# Convertendo a coluna de duração para segundos\n",
        "def converter_para_segundos(duracao):\n",
        "    minutos, segundos = map(int, duracao.split(':'))\n",
        "    return minutos * 60 + segundos\n",
        "\n",
        "# Aplicando a função e adicionando uma nova coluna 'duracao_segundos'\n",
        "df['duracao_segundos'] = df['duração'].apply(converter_para_segundos)\n",
        "\n",
        "print('E) Coluna em segundos adicionada:')\n",
        "print(df)\n",
        "print('________________________________________________________________')"
      ]
    }
  ]
}